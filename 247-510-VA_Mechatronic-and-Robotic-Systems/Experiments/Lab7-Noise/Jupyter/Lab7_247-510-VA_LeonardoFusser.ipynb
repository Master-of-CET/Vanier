{
 "cells": [
  {
   "cell_type": "markdown",
   "id": "aa4b1d1c",
   "metadata": {},
   "source": [
    "# Power-ON Reset Circuit Anaylsis\n",
    "We will determine when a microcontroller will reset after a **power-on-reset** circuit is activated. To do this, we will first define a function that will simulate the output of a RC circuit."
   ]
  },
  {
   "cell_type": "code",
   "execution_count": 1,
   "id": "b6ef4d37",
   "metadata": {},
   "outputs": [],
   "source": [
    "import numpy as np\n",
    "import matplotlib.pyplot as plt\n",
    "\n",
    "\n",
    "def RC_Output(t, R=10E3, C=100E-9, Vin=5.0):\n",
    "    tau = R*C\n",
    "    Vout = Vin*(1-np.exp(-t/tau))\n",
    "    return Vout, tau"
   ]
  },
  {
   "cell_type": "markdown",
   "id": "bebfc31e",
   "metadata": {},
   "source": [
    "## Setup\n",
    "This function returns the output voltage and the RC constant . We will use 150 *points* for our simulation. The input voltage $V_(in)$ is set to 5V. The **RESET** high and low thresholds are set to 4.5 and 1.3 volts respectively ($V_{HTH} and $V_{LTH})."
   ]
  },
  {
   "cell_type": "code",
   "execution_count": 2,
   "id": "98c0bb03",
   "metadata": {},
   "outputs": [],
   "source": [
    "N = 150\n",
    "t = np.linspace(0, 10E-3, N)\n",
    "V_HTH = 4.5\n",
    "V_LTH = 1.3\n",
    "Vin = 5.0"
   ]
  },
  {
   "cell_type": "markdown",
   "id": "13f2e63e",
   "metadata": {},
   "source": [
    "## Simulation\n",
    "The simulation was done by producing *additive Gaussian noise*. This was added to the voltage output from the RC network to simulate realistic conditions."
   ]
  },
  {
   "cell_type": "code",
   "execution_count": 3,
   "id": "bf5ab52e",
   "metadata": {},
   "outputs": [],
   "source": [
    "noise_pwr = 0.01\n",
    "noise = (noise_pwr**2)*np.random.randn(N)\n",
    "V, tau_value = RC_Output(t, Vin=Vin)\n",
    "V = V + noise"
   ]
  },
  {
   "cell_type": "markdown",
   "id": "059c62eb",
   "metadata": {},
   "source": [
    "Here, we will search the simulation vector where we are in the *reset* and *running* states ($V<V_{LTH}$, and $V>V_{HTH}$ respectively). From this, we will be able to detect *when* the reset condition will end, and *when* the processor should start running."
   ]
  },
  {
   "cell_type": "code",
   "execution_count": 4,
   "id": "12c5c156",
   "metadata": {},
   "outputs": [],
   "source": [
    "RESET_idx = np.where(V<V_LTH)[0]\n",
    "RUNNING_idx = np.where(V>V_HTH)[0]\n",
    "Time_EOR = t[RESET_idx][-1]\n",
    "Time_SOR = t[RUNNING_idx][0]"
   ]
  },
  {
   "cell_type": "markdown",
   "id": "e1b230cd",
   "metadata": {},
   "source": [
    "We will assume that internally, the reset condition is based on an internal comperator. This said, we will produce a logical condition for the reset state."
   ]
  },
  {
   "cell_type": "code",
   "execution_count": 5,
   "id": "9c299a30",
   "metadata": {},
   "outputs": [],
   "source": [
    "VLogic = np.zeros(len(RESET_idx))\n",
    "VLogic = Vin*np.append(VLogic, np.ones(N-len(RESET_idx)))"
   ]
  },
  {
   "cell_type": "markdown",
   "id": "88240f35",
   "metadata": {},
   "source": [
    "With these results, we can plot a simulation output."
   ]
  },
  {
   "cell_type": "code",
   "execution_count": 6,
   "id": "f89db45d",
   "metadata": {},
   "outputs": [
    {
     "data": {
      "image/png": "[encoded data removed]",
      "text/plain": [
       "<Figure size 432x288 with 2 Axes>"
      ]
     },
     "metadata": {
      "needs_background": "light"
     },
     "output_type": "display_data"
    }
   ],
   "source": [
    "plt.subplot(2, 1, 1)\n",
    "plt.plot(t, V, 'g')\n",
    "plt.plot(t[RESET_idx], V[RESET_idx], 'r-')\n",
    "plt.plot(t[RUNNING_idx], V[RUNNING_idx], 'r-')\n",
    "plt.axvline(Time_EOR, color='b', linestyle=':')\n",
    "plt.axvline(Time_SOR, color='b', linestyle=':')\n",
    "plt.grid('on')\n",
    "plt.ylabel('Voltage')\n",
    "plt.xlabel('Time')\n",
    "plt.title('POWER-ON RESET DIAGRAM\\nEnd of reset at %6.2e, $\\\\tau$ = %6.2e'%(Time_EOR,tau_value))\n",
    "\n",
    "plt.subplot(2, 1, 2)\n",
    "plt.plot(t, VLogic)\n",
    "plt.grid('on')\n",
    "plt.ylabel('Voltage')\n",
    "plt.xlabel('Time')\n",
    "\n",
    "plt.show()"
   ]
  },
  {
   "cell_type": "code",
   "execution_count": null,
   "id": "d69664ed",
   "metadata": {},
   "outputs": [],
   "source": []
  },
  {
   "cell_type": "code",
   "execution_count": null,
   "id": "6b53dda9",
   "metadata": {},
   "outputs": [],
   "source": []
  },
  {
   "cell_type": "code",
   "execution_count": null,
   "id": "a4e7862d",
   "metadata": {},
   "outputs": [],
   "source": []
  },
  {
   "cell_type": "code",
   "execution_count": null,
   "id": "f2ab69a2",
   "metadata": {},
   "outputs": [],
   "source": []
  }
 ],
 "metadata": {
  "kernelspec": {
   "display_name": "Python 3 (ipykernel)",
   "language": "python",
   "name": "python3"
  },
  "language_info": {
   "codemirror_mode": {
    "name": "ipython",
    "version": 3
   },
   "file_extension": ".py",
   "mimetype": "text/x-python",
   "name": "python",
   "nbconvert_exporter": "python",
   "pygments_lexer": "ipython3",
   "version": "3.7.11"
  }
 },
 "nbformat": 4,
 "nbformat_minor": 5
}
